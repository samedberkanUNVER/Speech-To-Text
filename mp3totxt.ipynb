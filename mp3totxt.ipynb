{
  "nbformat": 4,
  "nbformat_minor": 0,
  "metadata": {
    "colab": {
      "provenance": [],
      "authorship_tag": "ABX9TyP8+0PFZQXuUEk7iK/YdFNH",
      "include_colab_link": true
    },
    "kernelspec": {
      "name": "python3",
      "display_name": "Python 3"
    },
    "language_info": {
      "name": "python"
    }
  },
  "cells": [
    {
      "cell_type": "markdown",
      "metadata": {
        "id": "view-in-github",
        "colab_type": "text"
      },
      "source": [
        "<a href=\"https://colab.research.google.com/github/samedberkanUNVER/Speech-To-Text/blob/main/mp3totxt.ipynb\" target=\"_parent\"><img src=\"https://colab.research.google.com/assets/colab-badge.svg\" alt=\"Open In Colab\"/></a>"
      ]
    },
    {
      "cell_type": "code",
      "execution_count": null,
      "metadata": {
        "colab": {
          "base_uri": "https://localhost:8080/"
        },
        "id": "R7496-kewQSg",
        "outputId": "bd722404-e485-4c49-a949-e3e720fb0141"
      },
      "outputs": [
        {
          "output_type": "stream",
          "name": "stdout",
          "text": [
            "Get:1 https://cloud.r-project.org/bin/linux/ubuntu jammy-cran40/ InRelease [3,626 B]\n",
            "Hit:2 https://developer.download.nvidia.com/compute/cuda/repos/ubuntu2204/x86_64  InRelease\n",
            "Get:3 http://security.ubuntu.com/ubuntu jammy-security InRelease [129 kB]\n",
            "Hit:4 http://archive.ubuntu.com/ubuntu jammy InRelease\n",
            "Get:5 http://archive.ubuntu.com/ubuntu jammy-updates InRelease [128 kB]\n",
            "Get:6 https://r2u.stat.illinois.edu/ubuntu jammy InRelease [6,555 B]\n",
            "Hit:7 https://ppa.launchpadcontent.net/deadsnakes/ppa/ubuntu jammy InRelease\n",
            "Get:8 https://r2u.stat.illinois.edu/ubuntu jammy/main amd64 Packages [2,629 kB]\n",
            "Hit:9 https://ppa.launchpadcontent.net/graphics-drivers/ppa/ubuntu jammy InRelease\n",
            "Hit:10 https://ppa.launchpadcontent.net/ubuntugis/ppa/ubuntu jammy InRelease\n",
            "Get:11 http://archive.ubuntu.com/ubuntu jammy-backports InRelease [127 kB]\n",
            "Get:12 http://security.ubuntu.com/ubuntu jammy-security/restricted amd64 Packages [3,364 kB]\n",
            "Get:13 http://archive.ubuntu.com/ubuntu jammy-updates/main amd64 Packages [2,755 kB]\n",
            "Get:14 https://r2u.stat.illinois.edu/ubuntu jammy/main all Packages [8,549 kB]\n",
            "Get:15 http://security.ubuntu.com/ubuntu jammy-security/main amd64 Packages [2,469 kB]\n",
            "Get:16 http://security.ubuntu.com/ubuntu jammy-security/universe amd64 Packages [1,226 kB]\n",
            "Get:17 http://archive.ubuntu.com/ubuntu jammy-updates/universe amd64 Packages [1,516 kB]\n",
            "Fetched 22.9 MB in 4s (5,234 kB/s)\n",
            "Reading package lists... Done\n",
            "W: Skipping acquire of configured file 'main/source/Sources' as repository 'https://r2u.stat.illinois.edu/ubuntu jammy InRelease' does not seem to provide it (sources.list entry misspelt?)\n",
            "Reading package lists... Done\n",
            "Building dependency tree... Done\n",
            "Reading state information... Done\n",
            "ffmpeg is already the newest version (7:4.4.2-0ubuntu0.22.04.1).\n",
            "0 upgraded, 0 newly installed, 0 to remove and 51 not upgraded.\n"
          ]
        }
      ],
      "source": [
        "!apt-get update\n",
        "!apt-get install -y ffmpeg\n"
      ]
    },
    {
      "cell_type": "markdown",
      "source": [],
      "metadata": {
        "id": "XUGVNA9zwSPM"
      }
    },
    {
      "cell_type": "code",
      "source": [
        "pip install openai==0.28\n"
      ],
      "metadata": {
        "colab": {
          "base_uri": "https://localhost:8080/",
          "height": 608
        },
        "id": "cui4535XwUYr",
        "outputId": "b63e6ab4-8f91-4375-a882-f8f3f6d5ffb4"
      },
      "execution_count": null,
      "outputs": [
        {
          "output_type": "stream",
          "name": "stdout",
          "text": [
            "Collecting openai==0.28\n",
            "  Downloading openai-0.28.0-py3-none-any.whl.metadata (13 kB)\n",
            "Requirement already satisfied: requests>=2.20 in /usr/local/lib/python3.10/dist-packages (from openai==0.28) (2.32.3)\n",
            "Requirement already satisfied: tqdm in /usr/local/lib/python3.10/dist-packages (from openai==0.28) (4.66.6)\n",
            "Requirement already satisfied: aiohttp in /usr/local/lib/python3.10/dist-packages (from openai==0.28) (3.11.10)\n",
            "Requirement already satisfied: charset-normalizer<4,>=2 in /usr/local/lib/python3.10/dist-packages (from requests>=2.20->openai==0.28) (3.4.0)\n",
            "Requirement already satisfied: idna<4,>=2.5 in /usr/local/lib/python3.10/dist-packages (from requests>=2.20->openai==0.28) (3.10)\n",
            "Requirement already satisfied: urllib3<3,>=1.21.1 in /usr/local/lib/python3.10/dist-packages (from requests>=2.20->openai==0.28) (2.2.3)\n",
            "Requirement already satisfied: certifi>=2017.4.17 in /usr/local/lib/python3.10/dist-packages (from requests>=2.20->openai==0.28) (2024.8.30)\n",
            "Requirement already satisfied: aiohappyeyeballs>=2.3.0 in /usr/local/lib/python3.10/dist-packages (from aiohttp->openai==0.28) (2.4.4)\n",
            "Requirement already satisfied: aiosignal>=1.1.2 in /usr/local/lib/python3.10/dist-packages (from aiohttp->openai==0.28) (1.3.1)\n",
            "Requirement already satisfied: async-timeout<6.0,>=4.0 in /usr/local/lib/python3.10/dist-packages (from aiohttp->openai==0.28) (4.0.3)\n",
            "Requirement already satisfied: attrs>=17.3.0 in /usr/local/lib/python3.10/dist-packages (from aiohttp->openai==0.28) (24.2.0)\n",
            "Requirement already satisfied: frozenlist>=1.1.1 in /usr/local/lib/python3.10/dist-packages (from aiohttp->openai==0.28) (1.5.0)\n",
            "Requirement already satisfied: multidict<7.0,>=4.5 in /usr/local/lib/python3.10/dist-packages (from aiohttp->openai==0.28) (6.1.0)\n",
            "Requirement already satisfied: propcache>=0.2.0 in /usr/local/lib/python3.10/dist-packages (from aiohttp->openai==0.28) (0.2.1)\n",
            "Requirement already satisfied: yarl<2.0,>=1.17.0 in /usr/local/lib/python3.10/dist-packages (from aiohttp->openai==0.28) (1.18.3)\n",
            "Requirement already satisfied: typing-extensions>=4.1.0 in /usr/local/lib/python3.10/dist-packages (from multidict<7.0,>=4.5->aiohttp->openai==0.28) (4.12.2)\n",
            "Downloading openai-0.28.0-py3-none-any.whl (76 kB)\n",
            "\u001b[?25l   \u001b[90m━━━━━━━━━━━━━━━━━━━━━━━━━━━━━━━━━━━━━━━━\u001b[0m \u001b[32m0.0/76.5 kB\u001b[0m \u001b[31m?\u001b[0m eta \u001b[36m-:--:--\u001b[0m\r\u001b[2K   \u001b[90m━━━━━━━━━━━━━━━━━━━━━━━━━━━━━━━━━━━━━━━━\u001b[0m \u001b[32m76.5/76.5 kB\u001b[0m \u001b[31m2.0 MB/s\u001b[0m eta \u001b[36m0:00:00\u001b[0m\n",
            "\u001b[?25hInstalling collected packages: openai\n",
            "  Attempting uninstall: openai\n",
            "    Found existing installation: openai 1.57.4\n",
            "    Uninstalling openai-1.57.4:\n",
            "      Successfully uninstalled openai-1.57.4\n",
            "Successfully installed openai-0.28.0\n"
          ]
        },
        {
          "output_type": "display_data",
          "data": {
            "application/vnd.colab-display-data+json": {
              "pip_warning": {
                "packages": [
                  "openai"
                ]
              },
              "id": "12b63add83834effb0d54b2a05022838"
            }
          },
          "metadata": {}
        }
      ]
    },
    {
      "cell_type": "code",
      "source": [
        "!pip install --upgrade openai\n"
      ],
      "metadata": {
        "colab": {
          "base_uri": "https://localhost:8080/"
        },
        "id": "AQiSa04t13PJ",
        "outputId": "61e8b63f-a008-4164-ee33-b41d9a1bbf0b"
      },
      "execution_count": null,
      "outputs": [
        {
          "output_type": "stream",
          "name": "stdout",
          "text": [
            "Requirement already satisfied: openai in /usr/local/lib/python3.10/dist-packages (1.54.5)\n",
            "Collecting openai\n",
            "  Downloading openai-1.57.4-py3-none-any.whl.metadata (24 kB)\n",
            "Requirement already satisfied: anyio<5,>=3.5.0 in /usr/local/lib/python3.10/dist-packages (from openai) (3.7.1)\n",
            "Requirement already satisfied: distro<2,>=1.7.0 in /usr/local/lib/python3.10/dist-packages (from openai) (1.9.0)\n",
            "Requirement already satisfied: httpx<1,>=0.23.0 in /usr/local/lib/python3.10/dist-packages (from openai) (0.28.1)\n",
            "Requirement already satisfied: jiter<1,>=0.4.0 in /usr/local/lib/python3.10/dist-packages (from openai) (0.8.2)\n",
            "Requirement already satisfied: pydantic<3,>=1.9.0 in /usr/local/lib/python3.10/dist-packages (from openai) (2.10.3)\n",
            "Requirement already satisfied: sniffio in /usr/local/lib/python3.10/dist-packages (from openai) (1.3.1)\n",
            "Requirement already satisfied: tqdm>4 in /usr/local/lib/python3.10/dist-packages (from openai) (4.66.6)\n",
            "Requirement already satisfied: typing-extensions<5,>=4.11 in /usr/local/lib/python3.10/dist-packages (from openai) (4.12.2)\n",
            "Requirement already satisfied: idna>=2.8 in /usr/local/lib/python3.10/dist-packages (from anyio<5,>=3.5.0->openai) (3.10)\n",
            "Requirement already satisfied: exceptiongroup in /usr/local/lib/python3.10/dist-packages (from anyio<5,>=3.5.0->openai) (1.2.2)\n",
            "Requirement already satisfied: certifi in /usr/local/lib/python3.10/dist-packages (from httpx<1,>=0.23.0->openai) (2024.8.30)\n",
            "Requirement already satisfied: httpcore==1.* in /usr/local/lib/python3.10/dist-packages (from httpx<1,>=0.23.0->openai) (1.0.7)\n",
            "Requirement already satisfied: h11<0.15,>=0.13 in /usr/local/lib/python3.10/dist-packages (from httpcore==1.*->httpx<1,>=0.23.0->openai) (0.14.0)\n",
            "Requirement already satisfied: annotated-types>=0.6.0 in /usr/local/lib/python3.10/dist-packages (from pydantic<3,>=1.9.0->openai) (0.7.0)\n",
            "Requirement already satisfied: pydantic-core==2.27.1 in /usr/local/lib/python3.10/dist-packages (from pydantic<3,>=1.9.0->openai) (2.27.1)\n",
            "Downloading openai-1.57.4-py3-none-any.whl (390 kB)\n",
            "\u001b[2K   \u001b[90m━━━━━━━━━━━━━━━━━━━━━━━━━━━━━━━━━━━━━━━━\u001b[0m \u001b[32m390.3/390.3 kB\u001b[0m \u001b[31m7.6 MB/s\u001b[0m eta \u001b[36m0:00:00\u001b[0m\n",
            "\u001b[?25hInstalling collected packages: openai\n",
            "  Attempting uninstall: openai\n",
            "    Found existing installation: openai 1.54.5\n",
            "    Uninstalling openai-1.54.5:\n",
            "      Successfully uninstalled openai-1.54.5\n",
            "Successfully installed openai-1.57.4\n"
          ]
        }
      ]
    },
    {
      "cell_type": "code",
      "source": [
        "import openai\n",
        "import os\n",
        "from pydub import AudioSegment\n",
        "\n",
        "# FFmpeg'in yolunu Pydub için belirle\n",
        "AudioSegment.converter = \"ffmpeg\"\n",
        "\n",
        "def split_audio_file(input_file, output_dir, chunk_duration_ms=240000):\n",
        "    \"\"\"\n",
        "    Ses dosyasını parçalara böler.\n",
        "\n",
        "    Args:\n",
        "        input_file (str): Orijinal ses dosyası yolu.\n",
        "        output_dir (str): Parçaların kaydedileceği dizin.\n",
        "        chunk_duration_ms (int): Parçaların uzunluğu (milisaniye cinsinden).\n",
        "\n",
        "    Returns:\n",
        "        list: Parça dosyalarının yolları.\n",
        "    \"\"\"\n",
        "    audio = AudioSegment.from_file(input_file)\n",
        "    chunks = []\n",
        "\n",
        "    for i in range(0, len(audio), chunk_duration_ms):\n",
        "        chunk = audio[i:i + chunk_duration_ms]\n",
        "        chunk_file = os.path.join(output_dir, f\"chunk_{i // chunk_duration_ms}.mp3\")\n",
        "        chunk.export(chunk_file, format=\"mp3\")\n",
        "        chunks.append(chunk_file)\n",
        "\n",
        "    return chunks\n",
        "\n",
        "def recognize_speech_with_openai(input_file, api_key):\n",
        "    \"\"\"\n",
        "    OpenAI API kullanarak bir ses dosyasını metne dönüştürür.\n",
        "    \"\"\"\n",
        "    openai.api_key = api_key\n",
        "\n",
        "    try:\n",
        "        with open(input_file, \"rb\") as audio_file:\n",
        "            response = openai.Audio.transcribe(\"whisper-1\", audio_file)\n",
        "            return response['text']\n",
        "    except openai.error.OpenAIError as e:\n",
        "        print(f\"API hatası: {e}\")\n",
        "        return \"\"\n",
        "\n",
        "def main():\n",
        "    input_file = \"/content/YeniKayıt17.m4a\"  # Ses dosyasını Colab'e yükleyin\n",
        "    output_text_file = \"/content/output_text.txt\"\n",
        "    output_dir = \"/content/audio_chunks\"\n",
        "    openai_api_key = \"OpenAI API KEY\"  # OpenAI API anahtarınızı buraya ekleyin\n",
        "\n",
        "    # Parçalama dizinini oluştur\n",
        "    if not os.path.exists(output_dir):\n",
        "        os.makedirs(output_dir)\n",
        "\n",
        "    # Ses dosyasını parçalara ayır\n",
        "    print(\"Ses dosyası parçalara ayrılıyor...\")\n",
        "    chunks = split_audio_file(input_file, output_dir)\n",
        "\n",
        "    # Parçaları sırayla metne çevir ve birleştir\n",
        "    print(\"Parçalar metne çevriliyor...\")\n",
        "    full_text = \"\"\n",
        "\n",
        "    for chunk_file in chunks:\n",
        "        print(f\"Parça işleniyor: {chunk_file}\")\n",
        "        text = recognize_speech_with_openai(chunk_file, openai_api_key)\n",
        "        full_text += text + \"\\n\"\n",
        "\n",
        "    # Metni bir dosyaya kaydet\n",
        "    if full_text.strip():\n",
        "        with open(output_text_file, \"w\", encoding=\"utf-8\") as file:\n",
        "            file.write(full_text)\n",
        "        print(f\"Metin başarıyla {output_text_file} dosyasına kaydedildi.\")\n",
        "    else:\n",
        "        print(\"Metin kaydedilemedi.\")\n",
        "\n",
        "if __name__ == \"__main__\":\n",
        "    main()\n"
      ],
      "metadata": {
        "colab": {
          "base_uri": "https://localhost:8080/"
        },
        "id": "VVQnNfoHwcw5",
        "outputId": "c0550439-76ba-4ca9-fc83-fa55ee7a0ba8"
      },
      "execution_count": null,
      "outputs": [
        {
          "output_type": "stream",
          "name": "stdout",
          "text": [
            "Ses dosyası parçalara ayrılıyor...\n",
            "Parçalar metne çevriliyor...\n",
            "Parça işleniyor: /content/audio_chunks/chunk_0.mp3\n",
            "Parça işleniyor: /content/audio_chunks/chunk_1.mp3\n",
            "Parça işleniyor: /content/audio_chunks/chunk_2.mp3\n",
            "Parça işleniyor: /content/audio_chunks/chunk_3.mp3\n",
            "Parça işleniyor: /content/audio_chunks/chunk_4.mp3\n",
            "Parça işleniyor: /content/audio_chunks/chunk_5.mp3\n",
            "Parça işleniyor: /content/audio_chunks/chunk_6.mp3\n",
            "Parça işleniyor: /content/audio_chunks/chunk_7.mp3\n",
            "Parça işleniyor: /content/audio_chunks/chunk_8.mp3\n",
            "Parça işleniyor: /content/audio_chunks/chunk_9.mp3\n",
            "Parça işleniyor: /content/audio_chunks/chunk_10.mp3\n",
            "Parça işleniyor: /content/audio_chunks/chunk_11.mp3\n",
            "Parça işleniyor: /content/audio_chunks/chunk_12.mp3\n",
            "Parça işleniyor: /content/audio_chunks/chunk_13.mp3\n",
            "Parça işleniyor: /content/audio_chunks/chunk_14.mp3\n",
            "Parça işleniyor: /content/audio_chunks/chunk_15.mp3\n",
            "Parça işleniyor: /content/audio_chunks/chunk_16.mp3\n",
            "Parça işleniyor: /content/audio_chunks/chunk_17.mp3\n",
            "Parça işleniyor: /content/audio_chunks/chunk_18.mp3\n",
            "Parça işleniyor: /content/audio_chunks/chunk_19.mp3\n",
            "Parça işleniyor: /content/audio_chunks/chunk_20.mp3\n",
            "Parça işleniyor: /content/audio_chunks/chunk_21.mp3\n",
            "Parça işleniyor: /content/audio_chunks/chunk_22.mp3\n",
            "Parça işleniyor: /content/audio_chunks/chunk_23.mp3\n",
            "Parça işleniyor: /content/audio_chunks/chunk_24.mp3\n",
            "Parça işleniyor: /content/audio_chunks/chunk_25.mp3\n",
            "Parça işleniyor: /content/audio_chunks/chunk_26.mp3\n",
            "Parça işleniyor: /content/audio_chunks/chunk_27.mp3\n",
            "Metin başarıyla /content/output_text.txt dosyasına kaydedildi.\n"
          ]
        }
      ]
    },
    {
      "cell_type": "code",
      "source": [
        "!git init"
      ],
      "metadata": {
        "colab": {
          "base_uri": "https://localhost:8080/"
        },
        "id": "AJKAVygbGERr",
        "outputId": "8dc914e8-64bb-4bf1-c034-74ba44bcf3ab"
      },
      "execution_count": null,
      "outputs": [
        {
          "output_type": "stream",
          "name": "stdout",
          "text": [
            "Reinitialized existing Git repository in /content/.git/\n"
          ]
        }
      ]
    },
    {
      "cell_type": "code",
      "source": [
        "!git add ."
      ],
      "metadata": {
        "id": "5Ng18ZBtGLxS"
      },
      "execution_count": null,
      "outputs": []
    },
    {
      "cell_type": "code",
      "source": [
        "!git commit -m \"İlk kaydetme\""
      ],
      "metadata": {
        "colab": {
          "base_uri": "https://localhost:8080/"
        },
        "id": "umLQ6vLWGar7",
        "outputId": "3ba85345-88e3-45eb-fddc-56a9ee5aff64"
      },
      "execution_count": null,
      "outputs": [
        {
          "output_type": "stream",
          "name": "stdout",
          "text": [
            "On branch master\n",
            "nothing to commit, working tree clean\n"
          ]
        }
      ]
    },
    {
      "cell_type": "code",
      "source": [
        "!git config --global user.email \"samedberkan.unver@gmail.com\"\n",
        "!git config --global user.name \"samed\""
      ],
      "metadata": {
        "id": "9ikM-ii8Ge0W"
      },
      "execution_count": 15,
      "outputs": []
    },
    {
      "cell_type": "code",
      "source": [
        "!git remote add origin https://github.com/samedberkanUNVER/Speech-To-Text"
      ],
      "metadata": {
        "colab": {
          "base_uri": "https://localhost:8080/"
        },
        "id": "-vHejLVEGrRI",
        "outputId": "4af7c980-d2ce-46b7-9226-ac1a9033be53"
      },
      "execution_count": null,
      "outputs": [
        {
          "output_type": "stream",
          "name": "stdout",
          "text": [
            "error: remote origin already exists.\n"
          ]
        }
      ]
    }
  ]
}